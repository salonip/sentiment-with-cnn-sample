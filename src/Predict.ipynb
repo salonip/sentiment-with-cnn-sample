{
 "cells": [
  {
   "cell_type": "code",
   "execution_count": 18,
   "metadata": {},
   "outputs": [],
   "source": [
    "import pandas as pd\n",
    "import numpy as np\n",
    "import gensim\n",
    "from sklearn.model_selection import train_test_split\n",
    "import string\n",
    "import matplotlib.pyplot as plt\n",
    "import re\n",
    "import nltk\n",
    "from nltk.corpus import stopwords\n",
    "import Processing as dp\n",
    "fixed_sent_len=7\n",
    "filepath=\"../out/cnn_model_word2vec\"\n",
    "import keras"
   ]
  },
  {
   "cell_type": "code",
   "execution_count": 14,
   "metadata": {},
   "outputs": [],
   "source": [
    "tc = dp.TextClassification(100)"
   ]
  },
  {
   "cell_type": "code",
   "execution_count": 15,
   "metadata": {},
   "outputs": [],
   "source": [
    "article='Manipal Hospitals-Medanta deal will take more time to close, says top executive'"
   ]
  },
  {
   "cell_type": "code",
   "execution_count": 21,
   "metadata": {},
   "outputs": [
    {
     "name": "stdout",
     "output_type": "stream",
     "text": [
      "(0.0%) completed\n",
      "working with 0 of 1\n"
     ]
    }
   ],
   "source": [
    "rows, cols = tc.vec_len, fixed_sent_len\n",
    "dic = dict({0:'negative', 1:'positive'})\n",
    "\n",
    "article = tc.remove_stopwords(article)\n",
    "matrix = tc.cnvt_word2vec([article],fixed_sent_len =fixed_sent_len)\n",
    "matrix = matrix.reshape(matrix.shape[0], rows, cols,1)\n",
    "\n",
    "model= keras.models.load_model(filepath)\n",
    "predictions =  model.predict(matrix)\n",
    "actual_scores= np.argmax(predictions, axis=1)\n",
    "actual_scores = [dic[x] for x in actual_scores]"
   ]
  },
  {
   "cell_type": "code",
   "execution_count": 22,
   "metadata": {},
   "outputs": [
    {
     "data": {
      "text/plain": [
       "['negative']"
      ]
     },
     "execution_count": 22,
     "metadata": {},
     "output_type": "execute_result"
    }
   ],
   "source": [
    "actual_scores"
   ]
  },
  {
   "cell_type": "code",
   "execution_count": null,
   "metadata": {},
   "outputs": [],
   "source": []
  }
 ],
 "metadata": {
  "kernelspec": {
   "display_name": "Python 3",
   "language": "python",
   "name": "python3"
  },
  "language_info": {
   "codemirror_mode": {
    "name": "ipython",
    "version": 3
   },
   "file_extension": ".py",
   "mimetype": "text/x-python",
   "name": "python",
   "nbconvert_exporter": "python",
   "pygments_lexer": "ipython3",
   "version": "3.6.5"
  }
 },
 "nbformat": 4,
 "nbformat_minor": 2
}
