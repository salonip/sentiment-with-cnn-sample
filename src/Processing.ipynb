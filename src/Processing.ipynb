{
 "cells": [
  {
   "cell_type": "code",
   "execution_count": 4,
   "metadata": {},
   "outputs": [],
   "source": [
    "import pandas as pd\n",
    "import numpy as np\n",
    "import gensim\n",
    "from sklearn.model_selection import train_test_split\n",
    "import string\n",
    "import matplotlib.pyplot as plt\n",
    "import re\n",
    "import nltk\n",
    "from nltk.corpus import stopwords\n",
    "strlen = lambda x: len(x)"
   ]
  },
  {
   "cell_type": "code",
   "execution_count": 12,
   "metadata": {},
   "outputs": [],
   "source": [
    "class TextClassification:\n",
    "    def __init__(self,vec_len=10):\n",
    "        self.punctuations = list(string.punctuation)\n",
    "        self.stop = list(set(stopwords.words('english')))\n",
    "        self.remove_list = self.stop + self.punctuations + [\"`\", \"'\", \"``\", \"''\",\",\"]\n",
    "        self.nonascii = lambda text: ''.join([i if ord(i) < 128 else ' ' for i in text])\n",
    "        self.vec_len =vec_len\n",
    "        self.w2v_model = gensim.models.KeyedVectors.load_word2vec_format(\"../res/GoogleNews-vectors-negative300.bin.gz\", binary=True)\n",
    "\n",
    "\n",
    "    def remove_stopwords(self,lines):\n",
    "        prep = lambda x:' '.join([i for i in str(x).lower().split() if i not in self.remove_list])\n",
    "        return list(map(prep, lines))\n",
    "\n",
    "    def remove_spaces(lines):\n",
    "        result=[]\n",
    "        for line in lines:\n",
    "            line = ' '.join(line.split(' ')[4:-1])\n",
    "            result=result+([str(''.join(i for i in line if not i.isdigit()))])\n",
    "        return result\n",
    "\n",
    "\n",
    "\n",
    "    def cnvt_word2vec(self,lines,fixed_sent_len):\n",
    "        vec_len=self.vec_len\n",
    "        default_value = np.zeros(vec_len)\n",
    "        if self.stop_words is not None:\n",
    "            lines = self.remove_stopwords(lines)\n",
    "\n",
    "\n",
    "        key_set = self.w2v_model.vocab.keys()\n",
    "        mat = np.zeros((len(lines), fixed_sent_len, vec_len))\n",
    "\n",
    "        for i in range(0, len(lines)):\n",
    "\n",
    "            line = lines[i]\n",
    "            print (\"(\" + str(round(float(i)/len(lines) , 4)*100) + \"%) completed\")\n",
    "            for j in range(0, fixed_sent_len):\n",
    "                # j = 0\n",
    "                if j < len(line) and line[j] in key_set:\n",
    "                    mat[i,j,:] = self.w2v_model[line[j]][0:vec_len]\n",
    "                else:\n",
    "                    mat[i,j,:] = default_value\n",
    "            print (\"working with \"+str(i) + \" of \"+ str(len(lines)))\n",
    "        return mat"
   ]
  },
  {
   "cell_type": "code",
   "execution_count": 13,
   "metadata": {},
   "outputs": [],
   "source": [
    "tc =TextClassification()\n"
   ]
  },
  {
   "cell_type": "code",
   "execution_count": null,
   "metadata": {},
   "outputs": [],
   "source": []
  }
 ],
 "metadata": {
  "kernelspec": {
   "display_name": "Python 3",
   "language": "python",
   "name": "python3"
  },
  "language_info": {
   "codemirror_mode": {
    "name": "ipython",
    "version": 3
   },
   "file_extension": ".py",
   "mimetype": "text/x-python",
   "name": "python",
   "nbconvert_exporter": "python",
   "pygments_lexer": "ipython3",
   "version": "3.6.5"
  }
 },
 "nbformat": 4,
 "nbformat_minor": 2
}
